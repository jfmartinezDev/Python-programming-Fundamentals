{
 "cells": [
  {
   "cell_type": "code",
   "execution_count": 4,
   "id": "incorrect-catholic",
   "metadata": {},
   "outputs": [],
   "source": [
    "def pandas ():\n",
    "  import pandas as pd\n",
    "\n",
    "  data = {'first_name': ['Sigrid', 'Joe', 'Theodoric','Kennedy', 'Beatrix', 'Olimpia', 'Grange', 'Sallee'],\n",
    "          'last_name': ['Mannock', 'Hinners', 'Rivers', 'Donnell', 'Parlett', 'Guenther', 'Douce', 'Johnstone'],\n",
    "          'age': [27, 31, 36, 53, 48, 36, 40, 34],\n",
    "          'amount_1': [7.17, 1.90, 1.11, 1.41, 6.69, 4.62, 1.01, 4.88],\n",
    "          'amount_2': [8.06,  \"?\", 5.90,  \"?\",  \"?\", 7.48, 4.37,  \"?\"]}\n",
    "\n",
    "  datosDataFrame = pd.DataFrame(data)\n",
    "\n",
    "  print(datosDataFrame)\n",
    "\n",
    "  #Acaba la implementacion\n",
    "\n",
    "  datosDataFrame.to_csv('example.csv')"
   ]
  },
  {
   "cell_type": "code",
   "execution_count": null,
   "id": "contained-purse",
   "metadata": {},
   "outputs": [],
   "source": [
    "def archivoTXT():\n",
    "\n",
    "  listaDeDatos = ['linea1', 'linea2', 'linea3', 'linea4']\n",
    "  fic = open(\"text_1.txt\", \"w\") \n",
    "  # se abre el archivo para escribir sobre el\n",
    "\n",
    "  for line in listaDeDatos:\n",
    "      fic.write(line)\n",
    "      fic.write(\"\\n\")\n",
    "      \n",
    "  fic.close()\n",
    "# archivoTXT()\n",
    "\n",
    "\n",
    "def archivoTEXT2():\n",
    "  listaDeDatos = ['linea1', 'linea2', 'linea3', 'linea4']\n",
    "  fic = open(\"text_3.txt\", \"w\")\n",
    "  fic.writelines(\"%s\\n\" % s for s in listaDeDatos)\n",
    "  fic.close()\n",
    "archivoTEXT2()"
   ]
  },
  {
   "cell_type": "markdown",
   "id": "careful-midwest",
   "metadata": {},
   "source": [
    "EJERCICIO CLASE 18 TITANIC"
   ]
  },
  {
   "cell_type": "code",
   "execution_count": 12,
   "id": "secret-knowing",
   "metadata": {},
   "outputs": [
    {
     "name": "stdout",
     "output_type": "stream",
     "text": [
      "      pclass  survived                                             name  \\\n",
      "0          1         1                    Allen, Miss. Elisabeth Walton   \n",
      "1          1         1                   Allison, Master. Hudson Trevor   \n",
      "2          1         0                     Allison, Miss. Helen Loraine   \n",
      "3          1         0             Allison, Mr. Hudson Joshua Creighton   \n",
      "4          1         0  Allison, Mrs. Hudson J C (Bessie Waldo Daniels)   \n",
      "...      ...       ...                                              ...   \n",
      "1304       3         0                             Zabour, Miss. Hileni   \n",
      "1305       3         0                            Zabour, Miss. Thamine   \n",
      "1306       3         0                        Zakarian, Mr. Mapriededer   \n",
      "1307       3         0                              Zakarian, Mr. Ortin   \n",
      "1308       3         0                               Zimmerman, Mr. Leo   \n",
      "\n",
      "         sex      age  sibsp  parch  ticket      fare    cabin embarked boat  \\\n",
      "0     female  29.0000      0      0   24160  211.3375       B5        S    2   \n",
      "1       male   0.9167      1      2  113781  151.5500  C22 C26        S   11   \n",
      "2     female   2.0000      1      2  113781  151.5500  C22 C26        S  NaN   \n",
      "3       male  30.0000      1      2  113781  151.5500  C22 C26        S  NaN   \n",
      "4     female  25.0000      1      2  113781  151.5500  C22 C26        S  NaN   \n",
      "...      ...      ...    ...    ...     ...       ...      ...      ...  ...   \n",
      "1304  female  14.5000      1      0    2665   14.4542      NaN        C  NaN   \n",
      "1305  female      NaN      1      0    2665   14.4542      NaN        C  NaN   \n",
      "1306    male  26.5000      0      0    2656    7.2250      NaN        C  NaN   \n",
      "1307    male  27.0000      0      0    2670    7.2250      NaN        C  NaN   \n",
      "1308    male  29.0000      0      0  315082    7.8750      NaN        S  NaN   \n",
      "\n",
      "       body                        home.dest  \n",
      "0       NaN                     St Louis, MO  \n",
      "1       NaN  Montreal, PQ / Chesterville, ON  \n",
      "2       NaN  Montreal, PQ / Chesterville, ON  \n",
      "3     135.0  Montreal, PQ / Chesterville, ON  \n",
      "4       NaN  Montreal, PQ / Chesterville, ON  \n",
      "...     ...                              ...  \n",
      "1304  328.0                              NaN  \n",
      "1305    NaN                              NaN  \n",
      "1306  304.0                              NaN  \n",
      "1307    NaN                              NaN  \n",
      "1308    NaN                              NaN  \n",
      "\n",
      "[1309 rows x 14 columns]\n",
      "<class 'pandas.core.frame.DataFrame'>\n",
      "RangeIndex: 1309 entries, 0 to 1308\n",
      "Data columns (total 14 columns):\n",
      " #   Column     Non-Null Count  Dtype  \n",
      "---  ------     --------------  -----  \n",
      " 0   pclass     1309 non-null   int64  \n",
      " 1   survived   1309 non-null   int64  \n",
      " 2   name       1309 non-null   object \n",
      " 3   sex        1309 non-null   object \n",
      " 4   age        1046 non-null   float64\n",
      " 5   sibsp      1309 non-null   int64  \n",
      " 6   parch      1309 non-null   int64  \n",
      " 7   ticket     1309 non-null   object \n",
      " 8   fare       1308 non-null   float64\n",
      " 9   cabin      295 non-null    object \n",
      " 10  embarked   1307 non-null   object \n",
      " 11  boat       486 non-null    object \n",
      " 12  body       121 non-null    float64\n",
      " 13  home.dest  745 non-null    object \n",
      "dtypes: float64(3), int64(4), object(7)\n",
      "memory usage: 143.3+ KB\n"
     ]
    }
   ],
   "source": [
    "import pandas as pd\n",
    "\n",
    "def lecturaArchivoCSV ():\n",
    "    dataFrame = pd.read_csv('titanic3.csv')\n",
    "    print(dataFrame)\n",
    "    dataFrame.info()\n",
    "    \n",
    "lecturaArchivoCSV()"
   ]
  },
  {
   "cell_type": "code",
   "execution_count": 20,
   "id": "recognized-update",
   "metadata": {},
   "outputs": [
    {
     "name": "stdout",
     "output_type": "stream",
     "text": [
      "El promedio de edades en el archivo titanic es:  29.8811345124283\n",
      "La edad mayor en el archivo titanic es:  80.0\n",
      "La edad menor en el archivo titanic es:  0.1667\n",
      "La tarifa promedio en el archivo titanic es:  33.29547928134572\n"
     ]
    }
   ],
   "source": [
    "def lecturaArchivoCSV():\n",
    "    \n",
    "    promedioEdades = dataFrame['age'].mean()\n",
    "    print('El promedio de edades en el archivo titanic es: ', promedioEdades)\n",
    "\n",
    "    edadMayor = dataFrame['age'].max()\n",
    "    print('La edad mayor en el archivo titanic es: ', edadMayor)\n",
    "\n",
    "    edadMenor = dataFrame['age'].min()\n",
    "    print('La edad menor en el archivo titanic es: ', edadMenor)\n",
    "\n",
    "    tarifaPromedio = dataFrame['fare'].mean()\n",
    "    print('La tarifa promedio en el archivo titanic es: ', tarifaPromedio)\n",
    "    \n",
    "    return promedioEdades, edadMayor, edadMenor, tarifaPromedio\n",
    "\n",
    "promedioEdades, edadMayor, edadMenor, tarifaPromedio = lecturaArchivoCSV()"
   ]
  },
  {
   "cell_type": "code",
   "execution_count": 21,
   "id": "correct-ceramic",
   "metadata": {},
   "outputs": [
    {
     "name": "stdout",
     "output_type": "stream",
     "text": [
      "El promedio de edades en el archivo titanic es:  29.8811345124283\n",
      "La edad mayor en el archivo titanic es:  80.0\n",
      "La edad menor en el archivo titanic es:  0.1667\n",
      "La tarifa promedio en el archivo titanic es:  33.29547928134572\n",
      "{'promedioEdades': 29.8811345124283, 'edadMayor': 29.8811345124283, 'edadMenor': 29.8811345124283, 'tarifaPromedio': 33.29547928134572}\n"
     ]
    }
   ],
   "source": [
    "promedioEdades, edadMayor, edadMenor, tarifaPromedio = lecturaArchivoCSV()\n",
    "diccionarioSalida = dict()\n",
    "diccionarioSalida['promedioEdades'] = promedioEdades\n",
    "diccionarioSalida['edadMayor'] = promedioEdades\n",
    "diccionarioSalida['edadMenor'] = promedioEdades\n",
    "diccionarioSalida['tarifaPromedio'] = tarifaPromedio\n",
    "\n",
    "print(diccionarioSalida)"
   ]
  },
  {
   "cell_type": "code",
   "execution_count": 4,
   "id": "obvious-elements",
   "metadata": {},
   "outputs": [
    {
     "name": "stdout",
     "output_type": "stream",
     "text": [
      "{'promedioEdades': 29.8811345124283, 'edadMayor': 29.8811345124283, 'edadMenor': 29.8811345124283, 'tarifaPromedio': 33.3}\n"
     ]
    }
   ],
   "source": [
    "def funcionReto5(nombreDelArchivo: str) -> dict:\n",
    "    import pandas as pd\n",
    "        \n",
    "    dataFrame = pd.read_csv(nombreDelArchivo)\n",
    "    promedioEdades = dataFrame['age'].mean()\n",
    "    edadMayor = dataFrame['age'].max()\n",
    "    edadMenor = dataFrame['age'].min()\n",
    "    tarifaPromedio = round(dataFrame['fare'].mean(), 2)\n",
    "        \n",
    "    diccionarioSalida = dict()\n",
    "    diccionarioSalida['promedioEdades'] = promedioEdades\n",
    "    diccionarioSalida['edadMayor'] = promedioEdades \n",
    "    diccionarioSalida['edadMenor'] = promedioEdades\n",
    "    diccionarioSalida['tarifaPromedio'] = tarifaPromedio\n",
    "        \n",
    "    return diccionarioSalida\n",
    "    \n",
    "print(funcionReto5('titanic3.csv'))"
   ]
  },
  {
   "cell_type": "code",
   "execution_count": 1,
   "id": "4d7d0008-46e2-4c7a-b6be-064e1289a9a0",
   "metadata": {},
   "outputs": [
    {
     "name": "stdout",
     "output_type": "stream",
     "text": [
      "{'promedioEdades': 29.8811345124283, 'edadMayor': 80.0, 'edadMenor': 0.1667, 'promedioTarifa': 33.3}\n"
     ]
    }
   ],
   "source": [
    "def funcionReto5 (nombreDelArchivo: str) -> dict:\n",
    "    import pandas as pd\n",
    "    dataFrame = pd.read_csv(nombreDelArchivo)\n",
    "    # print (dataFrame)\n",
    "    \n",
    "    # dataFrame.info()\n",
    "    promedioDeEdades = dataFrame['age'].mean()\n",
    "    edadMayor = dataFrame['age'].max()\n",
    "    edadMenor = dataFrame['age'].min()\n",
    "    promedioTarifa = round ( (dataFrame['fare'].mean()), 2)\n",
    "\n",
    "    # El diccionario de salida, se puede armar al final\n",
    "    # o al principio\n",
    "    diccionarioSalida = dict()\n",
    "    diccionarioSalida ['promedioEdades'] = promedioDeEdades\n",
    "    diccionarioSalida ['edadMayor'] = edadMayor \n",
    "    diccionarioSalida ['edadMenor'] = edadMenor\n",
    "    diccionarioSalida ['promedioTarifa'] = promedioTarifa\n",
    "\n",
    "    return diccionarioSalida\n",
    "\n",
    "\n",
    "print (funcionReto5('titanic3.csv'))"
   ]
  }
 ],
 "metadata": {
  "kernelspec": {
   "display_name": "Python 3",
   "language": "python",
   "name": "python3"
  },
  "language_info": {
   "codemirror_mode": {
    "name": "ipython",
    "version": 3
   },
   "file_extension": ".py",
   "mimetype": "text/x-python",
   "name": "python",
   "nbconvert_exporter": "python",
   "pygments_lexer": "ipython3",
   "version": "3.8.8"
  }
 },
 "nbformat": 4,
 "nbformat_minor": 5
}
