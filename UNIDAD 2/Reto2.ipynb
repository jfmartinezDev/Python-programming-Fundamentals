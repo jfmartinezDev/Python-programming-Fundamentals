{
 "cells": [
  {
   "cell_type": "code",
   "execution_count": 9,
   "metadata": {},
   "outputs": [
    {
     "name": "stdout",
     "output_type": "stream",
     "text": [
      "1895.05\n",
      "6190.06\n"
     ]
    }
   ],
   "source": [
    "def calculoImpuesto (informacion):\n",
    "    IRPF=0\n",
    "\n",
    "    if informacion[\"estado\"]==0:\n",
    "        if informacion[\"ingreso\"]>=0 and informacion[\"ingreso\"]<=9950:\n",
    "            IRPF=informacion[\"ingreso\"]*0.1\n",
    "\n",
    "        if informacion[\"ingreso\"]>9950 and informacion[\"ingreso\"]<=40525:\n",
    "            IRPF=(9950*0.1)+((informacion[\"ingreso\"]-9950)*0.12)\n",
    "\n",
    "        if informacion[\"ingreso\"]>40525 and informacion[\"ingreso\"]<=86375:\n",
    "            IRPF=(9950*0.1)+(30575*0.12)+((informacion[\"ingreso\"]-40525)*0.22)\n",
    "\n",
    "    if informacion[\"estado\"]==1:\n",
    "        if informacion[\"ingreso\"]>=0 and informacion[\"ingreso\"]<=19900:\n",
    "            IRPF=informacion[\"ingreso\"]*0.1\n",
    "\n",
    "        if informacion[\"ingreso\"]>19900 and informacion[\"ingreso\"]<=81050:\n",
    "            IRPF= (19900*0.1)+((informacion[\"ingreso\"]-19900)*0.12)\n",
    "\n",
    "        if informacion[\"ingreso\"]>81050 and informacion[\"ingreso\"]<=172750:\n",
    "            IRPF= (9950*0.1)+(61150*0.12)+((informacion[\"ingreso\"]-81050)*0.22)\n",
    "\n",
    "    if informacion[\"estado\"]==2:\n",
    "        if informacion[\"ingreso\"]>=0 and informacion[\"ingreso\"]<=9950:\n",
    "            IRPF=informacion[\"ingreso\"]*0.1\n",
    "\n",
    "        if informacion[\"ingreso\"]>9950 and informacion[\"ingreso\"]<=40525:\n",
    "            IRPF=(9950*0.1)+((informacion[\"ingreso\"]-9950)*0.12)\n",
    "\n",
    "        if informacion[\"ingreso\"]>40525 and informacion[\"ingreso\"]<=86375:\n",
    "            IRPF=(9950*0.1)+(30575*0.12)+((informacion[\"ingreso\"]-40525)*0.22)\n",
    "\n",
    "    if informacion[\"estado\"]==3:\n",
    "        if informacion[\"ingreso\"]>=0 and informacion[\"ingreso\"]<=14200:\n",
    "            IRPF=informacion[\"ingreso\"]*0.1\n",
    "\n",
    "        if informacion[\"ingreso\"]>14200 and informacion[\"ingreso\"]<=54200:\n",
    "            IRPF=(14200*0.1)+((informacion[\"ingreso\"]-14200)*0.12)\n",
    "\n",
    "        if informacion[\"ingreso\"]>54200 and informacion[\"ingreso\"]<=86375:\n",
    "            IRPF=(14200*0.1)+(40000*0.12)+((informacion[\"ingreso\"]-54200)*0.22)           \n",
    "\n",
    "    IRPF = round(IRPF, 2)\n",
    "    return IRPF\n",
    "\n",
    "persona1 = {\"estado\": 0, \"ingreso\": 17450.412}\n",
    "persona2 = {\"estado\": 1, \"ingreso\": 54900.534}   \n",
    "\n",
    "calculoImpuesto(persona1)\n",
    "calculoImpuesto(persona2)\n",
    "\n"
   ]
  }
 ],
 "metadata": {
  "kernelspec": {
   "display_name": "Python 3",
   "language": "python",
   "name": "python3"
  },
  "language_info": {
   "codemirror_mode": {
    "name": "ipython",
    "version": 3
   },
   "file_extension": ".py",
   "mimetype": "text/x-python",
   "name": "python",
   "nbconvert_exporter": "python",
   "pygments_lexer": "ipython3",
   "version": "3.8.8"
  }
 },
 "nbformat": 4,
 "nbformat_minor": 4
}
