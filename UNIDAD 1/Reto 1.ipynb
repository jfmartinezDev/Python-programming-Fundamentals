{
 "cells": [
  {
   "cell_type": "code",
   "execution_count": null,
   "metadata": {},
   "outputs": [],
   "source": [
    "import math\n",
    "def areaPoligono (n, s):\n",
    "    n = float(n)\n",
    "    s = float(s)\n",
    "    A = (n*(s**2))/(4*math.tan(math.pi/n))\n",
    "    A = round(A, 4)\n",
    "    print(\"El área calculada es \"+str(A))\n",
    "\n",
    "n = input(\"Ingrese el número n de lados del polígono regular\")\n",
    "s = input(\"Ingrese la longitud s de lado del poligono regular\")\n",
    "areaPoligono (n, s)\n",
    "\n"
   ]
  },
  {
   "cell_type": "code",
   "execution_count": null,
   "metadata": {},
   "outputs": [],
   "source": [
    "import math\n",
    "def areaPoligono (n, s):\n",
    "    n = float(n)\n",
    "    s = float(s)\n",
    "    A = (n*(s**2))/(4*math.tan(math.pi/n))\n",
    "    A = round(A, 4)\n",
    "    return \"El área calculada es \"+str(A)\n",
    "\n",
    "areaPoligono(5, 6.5)  \n",
    "areaPoligono(6, 5.5) \n",
    "areaPoligono(10, 7) \n"
   ]
  },
  {
   "cell_type": "code",
   "execution_count": null,
   "metadata": {},
   "outputs": [],
   "source": [
    "import math\n",
    "def areaPoligono(n, s):\n",
    "    n = float(n)\n",
    "    s = float(s)\n",
    "    A = (n*(s**2))/(4*math.tan(math.pi/n))\n",
    "    A = round(A, 4)\n",
    "    return \"El área calculada es {}\".format(A)"
   ]
  },
  {
   "cell_type": "code",
   "execution_count": null,
   "metadata": {},
   "outputs": [],
   "source": [
    "import math\n",
    "def areaPoligono(n, s):\n",
    "    n = float(n)\n",
    "    s = float(s)\n",
    "    A = (n*(s**2))/(4*math.tan(math.pi/n))\n",
    "    A = round(A, 4)\n",
    "    return A\n",
    "\n",
    "area = areaPoligono(5, 6.5)  \n",
    "print(\"El área calculada es {}\".format(area))"
   ]
  },
  {
   "cell_type": "code",
   "execution_count": null,
   "metadata": {},
   "outputs": [],
   "source": [
    "#ESTA ES LA RESPUESTA CORRECTA DEL RETO\n",
    "import math\n",
    "def areaPoligono (n, s):\n",
    "    n = float(n)\n",
    "    s = float(s)\n",
    "    A = (n*(s**2))/(4*math.tan(math.pi/n))\n",
    "    A = round(A, 4)\n",
    "    return \"El área calculada es \"+str(A)\n",
    "\n",
    "areaPoligono(5, 6.5)  \n",
    "areaPoligono(6, 5.5) \n",
    "areaPoligono(10, 7) "
   ]
  }
 ],
 "metadata": {
  "kernelspec": {
   "display_name": "TensorFlow-GPU",
   "language": "python",
   "name": "tf-gpu"
  },
  "language_info": {
   "codemirror_mode": {
    "name": "ipython",
    "version": 3
   },
   "file_extension": ".py",
   "mimetype": "text/x-python",
   "name": "python",
   "nbconvert_exporter": "python",
   "pygments_lexer": "ipython3",
   "version": "3.8.8"
  }
 },
 "nbformat": 4,
 "nbformat_minor": 4
}
