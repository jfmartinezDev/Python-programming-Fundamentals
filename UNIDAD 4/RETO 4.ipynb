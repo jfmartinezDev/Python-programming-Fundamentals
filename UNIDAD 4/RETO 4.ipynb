{
 "cells": [
  {
   "cell_type": "markdown",
   "id": "measured-violation",
   "metadata": {},
   "source": [
    "CLASE 14: LIST COMPREHENSION, PROGRAMACION FUNCIONAL, LAMBDA, MAP, FILTER, REDUCE, ZIP\n",
    "\n",
    "\n",
    "1. FILTER RETORNA TUPLA DE ELEMENTOS QUE PASAN COMO TRUE LA FUNCION ENVUELTA Y RETORNA UNA TUPLA CON LOS ELEMENTOS FILTRADOS\n",
    "\n",
    "2. MAP APLICA UNA FUNCION A CADA ELEMENTO DE UNA LISTA U OBJ ITERABLE Y RETORNA UNA LISTA\n",
    "\n",
    "3. LAMBDA CONSTRUYE UNA FUNCION DE FORMA AGIL, ESPECIFICANDO ARGUMENTOS Y FUNCION\n",
    "\n",
    "4. REDUCE RECIBE 3 PARAMETROS (FUNCION ACUMULADOR, UNA LISTA Y UN VALOR DE INICIALIZACION)\n",
    "LA FUNCION ACUMULADOR TIENE 2 PARAMETROS (VARIABLE DE ACUMULACION Y UNA VARIABLE DE ENTRADA DE UN ELEMENTO DE UNA COLECCION.\n",
    "REDUCE RETORNA UN SOLO VALOR\n",
    "\n",
    "5. ZIP ES UNA FUNCION PARA ORGANIZAR LISTAS RECIBE COMO PARAMETROS UN CONJUNTO DE LISTAS Y RETORNA UNA LISTA DE TUPLAS. CADA TUPLA RESULTANTE ES UNA ASOCIACION ELEMENTO A ELEMENTO DE LAS LISTAS DE ENTRADA\n",
    "\n",
    "\n",
    "\n",
    "https://www.geeksforgeeks.org/python-convert-list-into-list-of-lists/\n",
    "\n",
    "https://stackabuse.com/python-how-to-flatten-list-of-lists\n",
    "\n",
    "https://www.w3schools.com/python/ref_list_insert.asphttps://www.w3schools.com/python/ref_list_insert.asp\n",
    "\n",
    "https://stackoverflow.com/questions/21507319/list-comprehension-list-of-lists\n",
    "\n",
    "https://stackoverflow.com/questions/24586757/understanding-list-comprehension-for-flattening-list-of-lists-in-python"
   ]
  },
  {
   "cell_type": "code",
   "execution_count": 4,
   "id": "statutory-finder",
   "metadata": {},
   "outputs": [
    {
     "name": "stdout",
     "output_type": "stream",
     "text": [
      "[1, 4, 9, 16, 25, 36, 49, 64, 81, 100]\n"
     ]
    }
   ],
   "source": [
    "def cuadrado(elemento=0):\n",
    "    return elemento * elemento\n",
    "\n",
    "lista = [1,2,3,4,5,6,7,8,9,10]\n",
    "# A ARTIR DE PYTHON 3 MAP RETORNA UN OBJETO MAP QUE DEBE SER CONVERTIDO A UNA LISTA\n",
    "resultado = list(map(cuadrado, lista))\n",
    "print(resultado)"
   ]
  },
  {
   "cell_type": "code",
   "execution_count": 5,
   "id": "elementary-career",
   "metadata": {},
   "outputs": [
    {
     "name": "stdout",
     "output_type": "stream",
     "text": [
      "[1, 4, 9, 16, 25, 36, 49, 64, 81, 100]\n"
     ]
    }
   ],
   "source": [
    "resultado = list(map(lambda elemento: elemento*elemento, lista))\n",
    "print(resultado)"
   ]
  },
  {
   "cell_type": "code",
   "execution_count": 8,
   "id": "naval-local",
   "metadata": {},
   "outputs": [
    {
     "name": "stdout",
     "output_type": "stream",
     "text": [
      "[8.0, 9.0, 256.0]\n"
     ]
    }
   ],
   "source": [
    "from math import pow\n",
    "\n",
    "numeros = [2,3,4]\n",
    "potencias = [3,2,4]\n",
    "\n",
    "potenciados = list(map(pow, numeros, potencias))\n",
    "print(potenciados)"
   ]
  },
  {
   "cell_type": "code",
   "execution_count": 3,
   "id": "becoming-employee",
   "metadata": {},
   "outputs": [
    {
     "name": "stdout",
     "output_type": "stream",
     "text": [
      "(6, 7, 8, 10, 77, 55, 30)\n"
     ]
    }
   ],
   "source": [
    "def mayora5(elemento):\n",
    "    return elemento > 5\n",
    "\n",
    "tupla = (5,2,6,7,8,10,77,55,2,1,30,4,2,3)\n",
    "resultado = tuple(filter(mayora5, tupla))\n",
    "print(resultado)"
   ]
  },
  {
   "cell_type": "code",
   "execution_count": 10,
   "id": "about-camera",
   "metadata": {},
   "outputs": [
    {
     "name": "stdout",
     "output_type": "stream",
     "text": [
      "(6, 7, 8, 10, 77, 55, 30)\n"
     ]
    }
   ],
   "source": [
    "tupla = (5,2,6,7,8,10,77,55,2,1,30,4,2,3)\n",
    "resultado = tuple(filter(lambda elemento: elemento > 5, tupla))\n",
    "print(resultado)"
   ]
  },
  {
   "cell_type": "code",
   "execution_count": 2,
   "id": "fundamental-kidney",
   "metadata": {},
   "outputs": [
    {
     "name": "stdout",
     "output_type": "stream",
     "text": [
      "Python-Java-Ruby-Elixir\n"
     ]
    }
   ],
   "source": [
    "from functools import reduce\n",
    "\n",
    "lista = ['Python', 'Java', 'Ruby', 'Elixir']\n",
    "\n",
    "resultado = reduce(lambda acumulador='', elemento='': acumulador + \"-\" + elemento, lista)\n",
    "print(resultado)"
   ]
  },
  {
   "cell_type": "code",
   "execution_count": 14,
   "id": "linear-prophet",
   "metadata": {},
   "outputs": [
    {
     "name": "stdout",
     "output_type": "stream",
     "text": [
      "[('Raul', 'Lopez Briega'), ('Pedro', 'Perez'), ('Sofia', 'Gonzalez')]\n"
     ]
    }
   ],
   "source": [
    "nombres = ['Raul', 'Pedro', 'Sofia']\n",
    "apellidos = ['Lopez Briega', 'Perez', 'Gonzalez']\n",
    "\n",
    "NombreApellido =  list(zip(nombres, apellidos))\n",
    "print(NombreApellido)"
   ]
  },
  {
   "cell_type": "markdown",
   "id": "c7210a2d-9a32-4145-88d8-3f2c184fe5d2",
   "metadata": {},
   "source": [
    "RETO 4:\n",
    "\n",
    "1. RECIBE UN DICCIONARIO\n",
    "2. RETORNA UN DICCIONARIO\n"
   ]
  },
  {
   "cell_type": "code",
   "execution_count": 108,
   "id": "564f55ad-45aa-450a-86da-be05fe352564",
   "metadata": {},
   "outputs": [
    {
     "name": "stdout",
     "output_type": "stream",
     "text": [
      "\n",
      "\n"
     ]
    },
    {
     "data": {
      "text/plain": [
       "{'nombreJugador': 'juanito', 'tesorosErroneos': ['T2', 'T3'], 'tablero': -1}"
      ]
     },
     "execution_count": 108,
     "metadata": {},
     "output_type": "execute_result"
    }
   ],
   "source": [
    "import numpy as np\n",
    "\n",
    "\n",
    "informacionPrueba1 = {\n",
    "    'nick':'lucila',\n",
    "    'ubicaciones': {\n",
    "        'T1': [0,0,'D'],\n",
    "        'T2':[3,0,'A'],\n",
    "        'T3':[3,3,'D'],\n",
    "        }  \n",
    "}\n",
    "\n",
    "\n",
    "\n",
    "informacionPrueba2 = {\n",
    " 'nick':'juanito',\n",
    " 'ubicaciones':\n",
    " {\n",
    " 'T1':[5,0,'D'],\n",
    " 'T2':[5,2,'A'],\n",
    " 'T3':[4,4,'D'],\n",
    " }\n",
    "\n",
    "}\n",
    "\n",
    "\n",
    "informacionPrueba3 = {\n",
    " 'nick':'paco',\n",
    " 'ubicaciones':\n",
    " {\n",
    " 'T1':[-1,0,'D'],\n",
    " 'T2':[0,2,'A'],\n",
    " 'T3':[4,4,'D'],\n",
    " }\n",
    "    \n",
    "}\n",
    "\n",
    "\n",
    "\n",
    "def establecerTablero(informacion:dict) -> dict:\n",
    "\n",
    "    nombre = informacion.get('nick')\n",
    "    loc = informacion.get('ubicaciones')\n",
    "    #print(nombre)\n",
    "    #print(loc)\n",
    "    #print('\\n')\n",
    "    T1 = loc.get('T1')\n",
    "    T2 = loc.get('T2')\n",
    "    T3 = loc.get('T3')\n",
    "\n",
    "    # print(T1)\n",
    "    # print(T2)\n",
    "    # print(T3)\n",
    "\n",
    "    fila1 = T1[0] \n",
    "    col1 = T1[1]\n",
    "    direccion1 = T1[2]\n",
    "\n",
    "    fila2 = T2[0]\n",
    "    col2 = T2[1]\n",
    "    direccion2 = T2[2]\n",
    "\n",
    "    fila3 = T3[0]\n",
    "    col3 = T3[1]\n",
    "    direccion3 = T3[2]\n",
    "\n",
    "    # print('\\n')\n",
    "    # print(fila1)\n",
    "    # print(col1)\n",
    "    # print(direccion1)\n",
    "\n",
    "\n",
    "    setup = {\n",
    "        'nombreJugador': '',\n",
    "        'tesorosErroneos': 0,\n",
    "        'tablero': [['TO', 'TO', 'TO', 'TO', 'TO', 'TO'],\n",
    "                    ['TO', 'TO', 'TO', 'TO', 'TO', 'TO'],\n",
    "                    ['TO', 'TO', 'TO', 'TO', 'TO', 'TO'],\n",
    "                    ['TO', 'TO', 'TO', 'TO', 'TO', 'TO'],\n",
    "                    ['TO', 'TO', 'TO', 'TO', 'TO', 'TO'],\n",
    "                    ['TO', 'TO', 'TO', 'TO', 'TO', 'TO']]\n",
    "            }\n",
    "\n",
    "\n",
    "    tab = setup['tablero']\n",
    "    tab2=1\n",
    "    errores1 = []\n",
    "    errores2 = 0 \n",
    "\n",
    "\n",
    "    # Si las coordenadas del tesoro estan fuera del tablero 6x6 o Si el tesoro se desborda del tablero    \n",
    "    if (fila1>5 or col1>5 or fila1<0 or col1<0) or (fila1>=4 and direccion1=='A') or (col1>=4 and direccion1=='D'):\n",
    "        errores2=1\n",
    "        errores1.append('T1')\n",
    "        tab2=-1\n",
    "\n",
    "    elif direccion1 == 'D': \n",
    "        tab[fila1][col1]='T1'\n",
    "        tab[fila1][col1+1]='T1'\n",
    "        tab[fila1][col1+2]='T1'\n",
    "\n",
    "    elif direccion1 == 'A':\n",
    "        tab[fila1][col1]='T1'\n",
    "        tab[fila1+1][col1]='T1'\n",
    "        tab[fila1+2][col1]='T1'\n",
    "\n",
    "\n",
    "\n",
    "    # Si las coordenadas del tesoro estan fuera del tablero 6x6 o Si el tesoro se desborda del tablero    \n",
    "    if (fila2>5 or col2>5 or fila2<0 or col2<0) or (fila2>=4 and direccion2=='A') or (col2>=4 and direccion2=='D') or (fila2==fila1 and col2==col1):\n",
    "        errores2=1\n",
    "        errores1.append('T2')\n",
    "        tab2=-1\n",
    "        \n",
    "    elif direccion2 == 'D':\n",
    "        tab[fila2][col2]='T2'\n",
    "        tab[fila2][col2+1]='T2'\n",
    "        tab[fila2][col2+2]='T2'\n",
    "\n",
    "    elif direccion2 == 'A':\n",
    "        tab[fila2][col2]='T2'\n",
    "        tab[fila2+1][col2]='T2'\n",
    "        tab[fila2+2][col2]='T2'\n",
    "\n",
    "\n",
    "    # Si las coordenadas del tesoro estan fuera del tablero 6x6 o Si el tesoro se desborda del tablero    \n",
    "    if (fila3>5 or col3>5 or fila3<0 or col3<0) or (fila3>=4 and direccion3=='A') or (col3>=4 and direccion3=='D') or (fila3==fila1 and col3==col1) or (fila3==fila2 and col3==col2):\n",
    "        errores2=1\n",
    "        errores1.append('T3')\n",
    "        tab2=-1\n",
    "        \n",
    "    elif direccion3 == 'D':\n",
    "        tab[fila3][col3]='T3'\n",
    "        tab[fila3][col3+1]='T3'\n",
    "        tab[fila3][col3+2]='T3'\n",
    "\n",
    "    elif direccion3 == 'A':\n",
    "        tab[fila3][col3]='T3'\n",
    "        tab[fila3+1][col3]='T3'\n",
    "        tab[fila3+2][col3]='T3'\n",
    "\n",
    "\n",
    "    if errores2 != 0:\n",
    "        setup['tesorosErroneos'] = errores1\n",
    "        setup['tablero']=tab2\n",
    "    else:\n",
    "        setup['tesorosErroneos'] = errores2\n",
    "        setup['tablero'] = tab\n",
    "        \n",
    "    setup['nombreJugador'] = nombre\n",
    "\n",
    "\n",
    "    \n",
    "    return setup\n",
    "\n",
    "#establecerTablero(informacionPrueba1) SUPERADO\n",
    "establecerTablero(informacionPrueba2) \n",
    "#establecerTablero(informacionPrueba3) SUPERADO"
   ]
  },
  {
   "cell_type": "code",
   "execution_count": 100,
   "id": "ccc823bf-cb94-4bc8-85a4-9b16c857db12",
   "metadata": {},
   "outputs": [],
   "source": [
    "# setup = {\n",
    "#     'nombreJugador': '',\n",
    "#     'tesorosErroneos': 0,\n",
    "#     'tablero': [['TO', 'TO', 'TO', 'TO', 'TO', 'TO'],\n",
    "#                 ['TO', 'TO', 'TO', 'TO', 'TO', 'TO'],\n",
    "#                 ['TO', 'TO', 'TO', 'TO', 'TO', 'TO'],\n",
    "#                 ['TO', 'TO', 'TO', 'TO', 'TO', 'TO'],\n",
    "#                 ['TO', 'TO', 'TO', 'TO', 'TO', 'TO'],\n",
    "#                 ['TO', 'TO', 'TO', 'TO', 'TO', 'TO']]\n",
    "#         }\n",
    "\n",
    "# tab = setup['tablero']\n",
    "# tab[5][0]='T1'\n",
    "# tab[5][1]='T1'\n",
    "# tab[5][2]='T1'\n",
    "\n",
    "# print(setup)\n",
    "# print('\\n')\n",
    "# setup['tablero']\n",
    "# print('\\n')\n",
    "# print(setup['tablero'][5])\n",
    "# #HACER UN MAP O UN REDUCE PARA VERIFICAR QUE NO HAY CRUCES"
   ]
  },
  {
   "cell_type": "code",
   "execution_count": 101,
   "id": "9739722c-f299-4127-8af8-7b3bb51058c0",
   "metadata": {},
   "outputs": [],
   "source": [
    "# lista = prueba = [[1,2,3,4,5,6],[7,8,9,10,11,12],[13,14,15,16,17,18],[19,20,21,22,23,24]]\n",
    "\n",
    "# print(lista[-1][0])\n",
    "# print(lista[0][2])\n",
    "# print(lista[4][4])"
   ]
  },
  {
   "cell_type": "markdown",
   "id": "d9bd2952-8e90-4fca-973e-261b8904db20",
   "metadata": {},
   "source": [
    "https://stackoverflow.com/questions/24586757/understanding-list-comprehension-for-flattening-list-of-lists-in-python"
   ]
  },
  {
   "cell_type": "code",
   "execution_count": 50,
   "id": "18ee87c5-c830-4f20-a5bd-880dc3ba749c",
   "metadata": {},
   "outputs": [
    {
     "data": {
      "text/plain": [
       "[['TO', 'TO', 'TO', 'TO', 'TO', 'TO'],\n",
       " ['TO', 'TO', 'TO', 'TO', 'TO', 'TO'],\n",
       " ['TO', 'TO', 'TO', 'TO', 'TO', 'TO'],\n",
       " ['TO', 'TO', 'TO', 'TO', 'TO', 'TO'],\n",
       " ['TO', 'TO', 'TO', 'TO', 'TO', 'TO'],\n",
       " ['TO', 'TO', 'TO', 'TO', 'TO', 'TO']]"
      ]
     },
     "execution_count": 50,
     "metadata": {},
     "output_type": "execute_result"
    }
   ],
   "source": [
    "#lista = [[1,2,3,4,5,6],[7,8,9,10,11,12],[13,14,15,16,17,18],[19,20,21,22,23,24]]\n",
    "lista = setup['tablero']\n",
    "#[elemento for sublista in lista for elemento in sublista] FLATTEN\n",
    "#[[elemento for elemento in sublista] for sublista in lista] LIST OF LIST"
   ]
  },
  {
   "cell_type": "code",
   "execution_count": 51,
   "id": "a8a8b94f-139a-41a7-b99d-15483905f203",
   "metadata": {},
   "outputs": [],
   "source": [
    "# prueba = [[1,2,3,4,5,6],[7,8,9,10,11,12],[13,14,15,16,17,18],[19,20,21,22,23,24]]\n",
    "# flatten = lambda lista: elemento for sublista in lista for elemento in sublista\n",
    "# resultado = list(map(flatten, x))\n",
    "# print(resultado)"
   ]
  },
  {
   "cell_type": "code",
   "execution_count": 106,
   "id": "69f3bd1a-0d24-4a56-ae76-fd6e2841c5cb",
   "metadata": {},
   "outputs": [
    {
     "name": "stdout",
     "output_type": "stream",
     "text": [
      "19\n"
     ]
    }
   ],
   "source": [
    "prueba = [[1,2,3,4,5,6],[7,8,9,10,11,12],[13,14,15,16,17,18],[19,20,21,22,23,24]]\n",
    "print(prueba[-1][0])"
   ]
  }
 ],
 "metadata": {
  "kernelspec": {
   "display_name": "Python 3",
   "language": "python",
   "name": "python3"
  },
  "language_info": {
   "codemirror_mode": {
    "name": "ipython",
    "version": 3
   },
   "file_extension": ".py",
   "mimetype": "text/x-python",
   "name": "python",
   "nbconvert_exporter": "python",
   "pygments_lexer": "ipython3",
   "version": "3.8.8"
  }
 },
 "nbformat": 4,
 "nbformat_minor": 5
}
