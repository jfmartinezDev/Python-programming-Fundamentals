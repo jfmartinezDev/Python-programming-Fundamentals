{
 "cells": [
  {
   "cell_type": "code",
   "execution_count": null,
   "id": "d302a944-90d6-4252-9ce6-74d49506ca36",
   "metadata": {},
   "outputs": [],
   "source": []
  },
  {
   "cell_type": "code",
   "execution_count": 4,
   "id": "c2d0c1e1-6f9b-4738-a93e-c10f55fcc12a",
   "metadata": {},
   "outputs": [
    {
     "name": "stdout",
     "output_type": "stream",
     "text": [
      "radio:  1\n",
      "radio:  1\n",
      "perimetro:  6.283185307179586\n",
      "area:  3.141592653589793\n",
      "\n",
      "\n",
      "radio:  5\n",
      "radio:  5\n",
      "perimetro:  31.41592653589793\n",
      "area:  78.53981633974483\n",
      "\n",
      "\n",
      "radio:  5\n",
      "radio:  5\n",
      "perimetro:  31.41592653589793\n",
      "area:  78.53981633974483\n"
     ]
    }
   ],
   "source": [
    "import math\n",
    "class Circulo:\n",
    "    #Constructor\n",
    "    def __init__(self, radio = 1):\n",
    "        self.radio = radio\n",
    "    \n",
    "    #SE DEFINE METODO SET Y GET POR CADA ATRIBUTO\n",
    "    def setRadio(self, radio): \n",
    "        self.radio = radio\n",
    "        \n",
    "    def getRadio(self):\n",
    "        return self.radio\n",
    "        \n",
    "    def getPerimetro(self):\n",
    "        p = 2 * self.radio*math.pi\n",
    "        return p\n",
    "    \n",
    "    def getArea(self):\n",
    "        a = math.pi * self.radio * self.radio\n",
    "        return a\n",
    "    \n",
    "c1 = Circulo()\n",
    "print ('radio: ', c1.radio)\n",
    "print ('radio: ', c1.getRadio())\n",
    "print ('perimetro: ',c1.getPerimetro())\n",
    "print ('area: ', c1.getArea())\n",
    "\n",
    "print(\"\\n\")\n",
    "\n",
    "c2 = Circulo (5)\n",
    "print ('radio: ', c2.radio)\n",
    "print ('radio: ', c2.getRadio())\n",
    "print ('perimetro: ',c2.getPerimetro())\n",
    "print ('area: ', c2.getArea())\n",
    "\n",
    "print(\"\\n\")\n",
    "\n",
    "c3 = Circulo()\n",
    "c3.setRadio (5)\n",
    "print ('radio: ', c3.radio)\n",
    "print ('radio: ', c3.getRadio())\n",
    "print ('perimetro: ',c3.getPerimetro())\n",
    "print ('area: ', c3.getArea())"
   ]
  }
 ],
 "metadata": {
  "kernelspec": {
   "display_name": "Python 3",
   "language": "python",
   "name": "python3"
  },
  "language_info": {
   "codemirror_mode": {
    "name": "ipython",
    "version": 3
   },
   "file_extension": ".py",
   "mimetype": "text/x-python",
   "name": "python",
   "nbconvert_exporter": "python",
   "pygments_lexer": "ipython3",
   "version": "3.8.8"
  }
 },
 "nbformat": 4,
 "nbformat_minor": 5
}
