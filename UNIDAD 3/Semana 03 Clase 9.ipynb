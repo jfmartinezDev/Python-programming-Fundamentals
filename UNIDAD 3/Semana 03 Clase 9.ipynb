{
 "cells": [
  {
   "cell_type": "code",
   "execution_count": 1,
   "metadata": {},
   "outputs": [
    {
     "name": "stdout",
     "output_type": "stream",
     "text": [
      "claves:  ['nombres', 'apellidos', 'cedula', 'fecha_nacimiento', 'lugar_nacimiento', 'nacionalidad', 'estado_civil']\n",
      "valores:  ['Leonardo Jose', 'Caballero Garcia', '26938401', '03/12/1980', 'Maracaibo, Zulia, Venezuela', 'Venezolana', 'Soltero']\n",
      "claves y valores:  [('nombres', 'Leonardo Jose'), ('apellidos', 'Caballero Garcia'), ('cedula', '26938401'), ('fecha_nacimiento', '03/12/1980'), ('lugar_nacimiento', 'Maracaibo, Zulia, Venezuela'), ('nacionalidad', 'Venezolana'), ('estado_civil', 'Soltero')]\n",
      "Primer ciclo: Acceder a las claves y valores del diccionario: \n",
      "Key:  nombres  Value:  Leonardo Jose\n",
      "Key:  apellidos  Value:  Caballero Garcia\n",
      "Key:  cedula  Value:  26938401\n",
      "Key:  fecha_nacimiento  Value:  03/12/1980\n",
      "Key:  lugar_nacimiento  Value:  Maracaibo, Zulia, Venezuela\n",
      "Key:  nacionalidad  Value:  Venezolana\n",
      "Key:  estado_civil  Value:  Soltero\n",
      "\n",
      "Segundo ciclo: Acceder directamente a las claves por Keys\n",
      "Key:  nombres  Value:  Leonardo Jose\n",
      "Key:  apellidos  Value:  Caballero Garcia\n",
      "Key:  cedula  Value:  26938401\n",
      "Key:  fecha_nacimiento  Value:  03/12/1980\n",
      "Key:  lugar_nacimiento  Value:  Maracaibo, Zulia, Venezuela\n",
      "Key:  nacionalidad  Value:  Venezolana\n",
      "Key:  estado_civil  Value:  Soltero\n",
      "\n",
      "Tercer ciclo: Acceder solo a los valores del diccionario\n",
      "Value:  Leonardo Jose\n",
      "Value:  Caballero Garcia\n",
      "Value:  26938401\n",
      "Value:  03/12/1980\n",
      "Value:  Maracaibo, Zulia, Venezuela\n",
      "Value:  Venezolana\n",
      "Value:  Soltero\n",
      "\n",
      "Cuarto ciclo: Acceder a la clave y al valor mediante items\n",
      "Key:  nombres  Value:  Leonardo Jose\n",
      "Key:  apellidos  Value:  Caballero Garcia\n",
      "Key:  cedula  Value:  26938401\n",
      "Key:  fecha_nacimiento  Value:  03/12/1980\n",
      "Key:  lugar_nacimiento  Value:  Maracaibo, Zulia, Venezuela\n",
      "Key:  nacionalidad  Value:  Venezolana\n",
      "Key:  estado_civil  Value:  Soltero\n"
     ]
    }
   ],
   "source": [
    "def cicloForParaDict():\n",
    "    datos_basicos = {\n",
    "    \"nombres\":\"Leonardo Jose\",\n",
    "    \"apellidos\":\"Caballero Garcia\",\n",
    "    \"cedula\":\"26938401\",\n",
    "    \"fecha_nacimiento\":\"03/12/1980\",\n",
    "    \"lugar_nacimiento\":\"Maracaibo, Zulia, Venezuela\",\n",
    "    \"nacionalidad\":\"Venezolana\",\n",
    "    \"estado_civil\":\"Soltero\"\n",
    "    }\n",
    "    claves = list( datos_basicos.keys())\n",
    "    valores = list(datos_basicos.values())\n",
    "    clavesYValores = list(datos_basicos.items())\n",
    "    \n",
    "    print (\"claves: \", claves)\n",
    "    print (\"valores: \", valores)\n",
    "    print (\"claves y valores: \", clavesYValores)\n",
    "    \n",
    "    \n",
    "    #primer ciclo, acceder directamente a las claves del diccionario\n",
    "    print (\"Primer ciclo: Acceder a las claves y valores del diccionario: \")\n",
    "    for clave in datos_basicos:\n",
    "        print(\"Key: \", clave, \" Value: \", datos_basicos[clave])\n",
    "    \n",
    "    #segundo ciclo, acceder directamente a las claves mediante keys\n",
    "    print (\"\\nSegundo ciclo: Acceder directamente a las claves por Keys\")\n",
    "    for clave in datos_basicos.keys():\n",
    "        print(\"Key: \", clave, \" Value: \", datos_basicos[clave])\n",
    "        \n",
    "    #Tercer ciclo, acceder solo a los valores del diccionario mediante values\n",
    "    print (\"\\nTercer ciclo: Acceder solo a los valores del diccionario\")\n",
    "    for valor in datos_basicos.values():\n",
    "        print (\"Value: \", valor)\n",
    "    \n",
    "    #Cuarto ciclo, acceder tanto a la clave como al valor mediante items\n",
    "    print (\"\\nCuarto ciclo: Acceder a la clave y al valor mediante items\")\n",
    "    for clave, valor in datos_basicos.items():\n",
    "        print(\"Key: \", clave, \" Value: \", valor)\n",
    "\n",
    "cicloForParaDict()"
   ]
  },
  {
   "cell_type": "code",
   "execution_count": 10,
   "metadata": {},
   "outputs": [
    {
     "name": "stdout",
     "output_type": "stream",
     "text": [
      "[1, 2, 3, {'Animal': 'Gato', 'Color': 'Azul'}]\n"
     ]
    }
   ],
   "source": [
    "lista = [1,2,3,4]\n",
    "\n",
    "lista[-1] = {\"Animal\": \"Gato\", \"Color\": \"Azul\"}\n",
    "\n",
    "print(lista)\n"
   ]
  },
  {
   "cell_type": "code",
   "execution_count": null,
   "metadata": {},
   "outputs": [],
   "source": []
  }
 ],
 "metadata": {
  "kernelspec": {
   "display_name": "Python 3",
   "language": "python",
   "name": "python3"
  },
  "language_info": {
   "codemirror_mode": {
    "name": "ipython",
    "version": 3
   },
   "file_extension": ".py",
   "mimetype": "text/x-python",
   "name": "python",
   "nbconvert_exporter": "python",
   "pygments_lexer": "ipython3",
   "version": "3.8.8"
  }
 },
 "nbformat": 4,
 "nbformat_minor": 4
}
